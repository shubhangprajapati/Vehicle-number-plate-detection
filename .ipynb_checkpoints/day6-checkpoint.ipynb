{
 "cells": [
  {
   "cell_type": "code",
   "execution_count": null,
   "id": "8b20729e",
   "metadata": {},
   "outputs": [],
   "source": []
  },
  {
   "cell_type": "code",
   "execution_count": 2,
   "id": "1ad4a354",
   "metadata": {},
   "outputs": [
    {
     "name": "stdout",
     "output_type": "stream",
     "text": [
      "Requirement already satisfied: easyocr in c:\\users\\shubhang prajapati\\anaconda3\\envs\\ai\\lib\\site-packages (1.6.0)\n",
      "Requirement already satisfied: scikit-image in c:\\users\\shubhang prajapati\\anaconda3\\envs\\ai\\lib\\site-packages (from easyocr) (0.19.3)\n",
      "Requirement already satisfied: PyYAML in c:\\users\\shubhang prajapati\\anaconda3\\envs\\ai\\lib\\site-packages (from easyocr) (6.0)\n",
      "Requirement already satisfied: numpy in c:\\users\\shubhang prajapati\\anaconda3\\envs\\ai\\lib\\site-packages (from easyocr) (1.23.2)\n",
      "Requirement already satisfied: pyclipper in c:\\users\\shubhang prajapati\\anaconda3\\envs\\ai\\lib\\site-packages (from easyocr) (1.3.0.post3)\n",
      "Requirement already satisfied: ninja in c:\\users\\shubhang prajapati\\anaconda3\\envs\\ai\\lib\\site-packages (from easyocr) (1.10.2.3)\n",
      "Requirement already satisfied: Pillow in c:\\users\\shubhang prajapati\\anaconda3\\envs\\ai\\lib\\site-packages (from easyocr) (9.2.0)\n",
      "Requirement already satisfied: torch in c:\\users\\shubhang prajapati\\anaconda3\\envs\\ai\\lib\\site-packages (from easyocr) (1.12.1)\n",
      "Requirement already satisfied: torchvision>=0.5 in c:\\users\\shubhang prajapati\\anaconda3\\envs\\ai\\lib\\site-packages (from easyocr) (0.13.1)\n",
      "Requirement already satisfied: Shapely in c:\\users\\shubhang prajapati\\anaconda3\\envs\\ai\\lib\\site-packages (from easyocr) (1.8.4)\n",
      "Requirement already satisfied: opencv-python-headless<=4.5.4.60 in c:\\users\\shubhang prajapati\\anaconda3\\envs\\ai\\lib\\site-packages (from easyocr) (4.5.4.60)\n",
      "Requirement already satisfied: python-bidi in c:\\users\\shubhang prajapati\\anaconda3\\envs\\ai\\lib\\site-packages (from easyocr) (0.4.2)\n",
      "Requirement already satisfied: scipy in c:\\users\\shubhang prajapati\\anaconda3\\envs\\ai\\lib\\site-packages (from easyocr) (1.9.1)\n",
      "Requirement already satisfied: requests in c:\\users\\shubhang prajapati\\anaconda3\\envs\\ai\\lib\\site-packages (from torchvision>=0.5->easyocr) (2.28.1)\n",
      "Requirement already satisfied: typing-extensions in c:\\users\\shubhang prajapati\\anaconda3\\envs\\ai\\lib\\site-packages (from torchvision>=0.5->easyocr) (4.3.0)\n",
      "Requirement already satisfied: six in c:\\users\\shubhang prajapati\\anaconda3\\envs\\ai\\lib\\site-packages (from python-bidi->easyocr) (1.16.0)\n",
      "Requirement already satisfied: tifffile>=2019.7.26 in c:\\users\\shubhang prajapati\\anaconda3\\envs\\ai\\lib\\site-packages (from scikit-image->easyocr) (2022.8.12)\n",
      "Requirement already satisfied: packaging>=20.0 in c:\\users\\shubhang prajapati\\anaconda3\\envs\\ai\\lib\\site-packages (from scikit-image->easyocr) (21.3)\n",
      "Requirement already satisfied: imageio>=2.4.1 in c:\\users\\shubhang prajapati\\anaconda3\\envs\\ai\\lib\\site-packages (from scikit-image->easyocr) (2.21.2)\n",
      "Requirement already satisfied: networkx>=2.2 in c:\\users\\shubhang prajapati\\anaconda3\\envs\\ai\\lib\\site-packages (from scikit-image->easyocr) (2.8.6)\n",
      "Requirement already satisfied: PyWavelets>=1.1.1 in c:\\users\\shubhang prajapati\\anaconda3\\envs\\ai\\lib\\site-packages (from scikit-image->easyocr) (1.3.0)\n",
      "Requirement already satisfied: pyparsing!=3.0.5,>=2.0.2 in c:\\users\\shubhang prajapati\\anaconda3\\envs\\ai\\lib\\site-packages (from packaging>=20.0->scikit-image->easyocr) (3.0.9)\n",
      "Requirement already satisfied: idna<4,>=2.5 in c:\\users\\shubhang prajapati\\anaconda3\\envs\\ai\\lib\\site-packages (from requests->torchvision>=0.5->easyocr) (3.3)\n",
      "Requirement already satisfied: urllib3<1.27,>=1.21.1 in c:\\users\\shubhang prajapati\\anaconda3\\envs\\ai\\lib\\site-packages (from requests->torchvision>=0.5->easyocr) (1.26.12)\n",
      "Requirement already satisfied: certifi>=2017.4.17 in c:\\users\\shubhang prajapati\\anaconda3\\envs\\ai\\lib\\site-packages (from requests->torchvision>=0.5->easyocr) (2022.6.15)\n",
      "Requirement already satisfied: charset-normalizer<3,>=2 in c:\\users\\shubhang prajapati\\anaconda3\\envs\\ai\\lib\\site-packages (from requests->torchvision>=0.5->easyocr) (2.1.1)\n"
     ]
    }
   ],
   "source": [
    "!pip install easyocr"
   ]
  },
  {
   "cell_type": "code",
   "execution_count": 1,
   "id": "65a06684",
   "metadata": {},
   "outputs": [
    {
     "name": "stdout",
     "output_type": "stream",
     "text": [
      "Requirement already satisfied: easyocr in c:\\users\\shubhang prajapati\\anaconda3\\envs\\ai\\lib\\site-packages (1.6.0)Note: you may need to restart the kernel to use updated packages.\n",
      "Requirement already satisfied: ninja in c:\\users\\shubhang prajapati\\anaconda3\\envs\\ai\\lib\\site-packages (from easyocr) (1.10.2.3)\n",
      "Requirement already satisfied: torch in c:\\users\\shubhang prajapati\\anaconda3\\envs\\ai\\lib\\site-packages (from easyocr) (1.12.1)\n",
      "Requirement already satisfied: PyYAML in c:\\users\\shubhang prajapati\\anaconda3\\envs\\ai\\lib\\site-packages (from easyocr) (6.0)\n",
      "Requirement already satisfied: torchvision>=0.5 in c:\\users\\shubhang prajapati\\anaconda3\\envs\\ai\\lib\\site-packages (from easyocr) (0.13.1)\n",
      "Requirement already satisfied: scipy in c:\\users\\shubhang prajapati\\anaconda3\\envs\\ai\\lib\\site-packages (from easyocr) (1.9.1)\n",
      "Requirement already satisfied: opencv-python-headless<=4.5.4.60 in c:\\users\\shubhang prajapati\\anaconda3\\envs\\ai\\lib\\site-packages (from easyocr) (4.5.4.60)\n",
      "Requirement already satisfied: Pillow in c:\\users\\shubhang prajapati\\anaconda3\\envs\\ai\\lib\\site-packages (from easyocr) (9.2.0)\n",
      "Requirement already satisfied: numpy in c:\\users\\shubhang prajapati\\anaconda3\\envs\\ai\\lib\\site-packages (from easyocr) (1.23.2)\n",
      "Requirement already satisfied: pyclipper in c:\\users\\shubhang prajapati\\anaconda3\\envs\\ai\\lib\\site-packages (from easyocr) (1.3.0.post3)\n",
      "Requirement already satisfied: Shapely in c:\\users\\shubhang prajapati\\anaconda3\\envs\\ai\\lib\\site-packages (from easyocr) (1.8.4)\n",
      "Requirement already satisfied: python-bidi in c:\\users\\shubhang prajapati\\anaconda3\\envs\\ai\\lib\\site-packages (from easyocr) (0.4.2)\n",
      "Requirement already satisfied: scikit-image in c:\\users\\shubhang prajapati\\anaconda3\\envs\\ai\\lib\\site-packages (from easyocr) (0.19.3)\n",
      "Requirement already satisfied: typing-extensions in c:\\users\\shubhang prajapati\\anaconda3\\envs\\ai\\lib\\site-packages (from torchvision>=0.5->easyocr) (4.3.0)\n",
      "Requirement already satisfied: requests in c:\\users\\shubhang prajapati\\anaconda3\\envs\\ai\\lib\\site-packages (from torchvision>=0.5->easyocr) (2.28.1)\n",
      "Requirement already satisfied: six in c:\\users\\shubhang prajapati\\anaconda3\\envs\\ai\\lib\\site-packages (from python-bidi->easyocr) (1.16.0)\n",
      "Requirement already satisfied: packaging>=20.0 in c:\\users\\shubhang prajapati\\anaconda3\\envs\\ai\\lib\\site-packages (from scikit-image->easyocr) (21.3)\n",
      "Requirement already satisfied: PyWavelets>=1.1.1 in c:\\users\\shubhang prajapati\\anaconda3\\envs\\ai\\lib\\site-packages (from scikit-image->easyocr) (1.3.0)\n",
      "\n",
      "Requirement already satisfied: imageio>=2.4.1 in c:\\users\\shubhang prajapati\\anaconda3\\envs\\ai\\lib\\site-packages (from scikit-image->easyocr) (2.21.2)\n",
      "Requirement already satisfied: tifffile>=2019.7.26 in c:\\users\\shubhang prajapati\\anaconda3\\envs\\ai\\lib\\site-packages (from scikit-image->easyocr) (2022.8.12)\n",
      "Requirement already satisfied: networkx>=2.2 in c:\\users\\shubhang prajapati\\anaconda3\\envs\\ai\\lib\\site-packages (from scikit-image->easyocr) (2.8.6)\n",
      "Requirement already satisfied: pyparsing!=3.0.5,>=2.0.2 in c:\\users\\shubhang prajapati\\anaconda3\\envs\\ai\\lib\\site-packages (from packaging>=20.0->scikit-image->easyocr) (3.0.9)\n",
      "Requirement already satisfied: urllib3<1.27,>=1.21.1 in c:\\users\\shubhang prajapati\\anaconda3\\envs\\ai\\lib\\site-packages (from requests->torchvision>=0.5->easyocr) (1.26.12)\n",
      "Requirement already satisfied: charset-normalizer<3,>=2 in c:\\users\\shubhang prajapati\\anaconda3\\envs\\ai\\lib\\site-packages (from requests->torchvision>=0.5->easyocr) (2.1.1)\n",
      "Requirement already satisfied: certifi>=2017.4.17 in c:\\users\\shubhang prajapati\\anaconda3\\envs\\ai\\lib\\site-packages (from requests->torchvision>=0.5->easyocr) (2022.6.15)\n",
      "Requirement already satisfied: idna<4,>=2.5 in c:\\users\\shubhang prajapati\\anaconda3\\envs\\ai\\lib\\site-packages (from requests->torchvision>=0.5->easyocr) (3.3)\n"
     ]
    }
   ],
   "source": [
    "pip install easyocr"
   ]
  },
  {
   "cell_type": "code",
   "execution_count": 1,
   "id": "fe47422d",
   "metadata": {},
   "outputs": [],
   "source": [
    "import cv2\n",
    "import numpy as np\n",
    "import imutils\n",
    "from matplotlib import pyplot as plt\n",
    "#"
   ]
  },
  {
   "cell_type": "code",
   "execution_count": null,
   "id": "fd8b1cd5",
   "metadata": {},
   "outputs": [],
   "source": [
    "import easyocr"
   ]
  },
  {
   "cell_type": "code",
   "execution_count": null,
   "id": "6a037616",
   "metadata": {},
   "outputs": [],
   "source": []
  },
  {
   "cell_type": "code",
   "execution_count": null,
   "id": "58853640",
   "metadata": {},
   "outputs": [],
   "source": []
  },
  {
   "cell_type": "code",
   "execution_count": null,
   "id": "0220b605",
   "metadata": {},
   "outputs": [],
   "source": []
  },
  {
   "cell_type": "code",
   "execution_count": null,
   "id": "9a89857c",
   "metadata": {},
   "outputs": [],
   "source": []
  },
  {
   "cell_type": "code",
   "execution_count": null,
   "id": "979e9565",
   "metadata": {},
   "outputs": [],
   "source": []
  }
 ],
 "metadata": {
  "kernelspec": {
   "display_name": "Python 3 (ipykernel)",
   "language": "python",
   "name": "python3"
  },
  "language_info": {
   "codemirror_mode": {
    "name": "ipython",
    "version": 3
   },
   "file_extension": ".py",
   "mimetype": "text/x-python",
   "name": "python",
   "nbconvert_exporter": "python",
   "pygments_lexer": "ipython3",
   "version": "3.10.6"
  }
 },
 "nbformat": 4,
 "nbformat_minor": 5
}
